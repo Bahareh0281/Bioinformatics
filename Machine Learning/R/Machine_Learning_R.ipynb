{
  "nbformat": 4,
  "nbformat_minor": 0,
  "metadata": {
    "colab": {
      "provenance": [],
      "gpuType": "T4"
    },
    "kernelspec": {
      "name": "ir",
      "display_name": "R"
    },
    "language_info": {
      "name": "R"
    },
    "accelerator": "GPU"
  },
  "cells": [
    {
      "cell_type": "code",
      "source": [
        "install.packages(\"caret\")\n",
        "install.packages(\"randomForest\")"
      ],
      "metadata": {
        "colab": {
          "base_uri": "https://localhost:8080/"
        },
        "id": "fq1KNksGHGlU",
        "outputId": "5cfba635-fdd6-43df-e034-18edd911d38e"
      },
      "execution_count": 2,
      "outputs": [
        {
          "output_type": "stream",
          "name": "stderr",
          "text": [
            "Installing package into ‘/usr/local/lib/R/site-library’\n",
            "(as ‘lib’ is unspecified)\n",
            "\n",
            "also installing the dependencies ‘listenv’, ‘parallelly’, ‘future’, ‘globals’, ‘shape’, ‘future.apply’, ‘numDeriv’, ‘progressr’, ‘SQUAREM’, ‘diagram’, ‘lava’, ‘prodlim’, ‘proxy’, ‘iterators’, ‘clock’, ‘gower’, ‘hardhat’, ‘ipred’, ‘timeDate’, ‘e1071’, ‘foreach’, ‘ModelMetrics’, ‘plyr’, ‘pROC’, ‘recipes’, ‘reshape2’\n",
            "\n",
            "\n"
          ]
        }
      ]
    },
    {
      "cell_type": "code",
      "source": [
        "# Load necessary libraries\n",
        "library(dplyr)\n",
        "library(tidyr)\n",
        "library(readr)\n",
        "library(caret)\n",
        "library(randomForest)\n",
        "library(ggplot2)"
      ],
      "metadata": {
        "colab": {
          "base_uri": "https://localhost:8080/"
        },
        "id": "u3deYaEiNSrA",
        "outputId": "1a029405-b45c-4892-bbee-d23f2e5f0dd7"
      },
      "execution_count": 1,
      "outputs": [
        {
          "output_type": "stream",
          "name": "stderr",
          "text": [
            "\n",
            "Attaching package: ‘dplyr’\n",
            "\n",
            "\n",
            "The following objects are masked from ‘package:stats’:\n",
            "\n",
            "    filter, lag\n",
            "\n",
            "\n",
            "The following objects are masked from ‘package:base’:\n",
            "\n",
            "    intersect, setdiff, setequal, union\n",
            "\n",
            "\n",
            "Loading required package: ggplot2\n",
            "\n",
            "Loading required package: lattice\n",
            "\n",
            "randomForest 4.7-1.2\n",
            "\n",
            "Type rfNews() to see new features/changes/bug fixes.\n",
            "\n",
            "\n",
            "Attaching package: ‘randomForest’\n",
            "\n",
            "\n",
            "The following object is masked from ‘package:ggplot2’:\n",
            "\n",
            "    margin\n",
            "\n",
            "\n",
            "The following object is masked from ‘package:dplyr’:\n",
            "\n",
            "    combine\n",
            "\n",
            "\n"
          ]
        }
      ]
    },
    {
      "cell_type": "code",
      "source": [
        "# Load datasets\n",
        "case_data <- read_csv('PC_case.csv', col_names = FALSE)\n",
        "control_data <- read_csv('PC_control.csv', col_names = FALSE)\n",
        "gene_data <- read_csv('geneList.csv', col_names = FALSE)"
      ],
      "metadata": {
        "colab": {
          "base_uri": "https://localhost:8080/"
        },
        "id": "7-SXFp7MNUAD",
        "outputId": "1d6dca03-f26c-4f15-e567-0f9d5aaa79b7"
      },
      "execution_count": 2,
      "outputs": [
        {
          "output_type": "stream",
          "name": "stderr",
          "text": [
            "\u001b[1mRows: \u001b[22m\u001b[34m11564\u001b[39m \u001b[1mColumns: \u001b[22m\u001b[34m5\u001b[39m\n",
            "\u001b[36m──\u001b[39m \u001b[1mColumn specification\u001b[22m \u001b[36m────────────────────────────────────────────────────────\u001b[39m\n",
            "\u001b[1mDelimiter:\u001b[22m \",\"\n",
            "\u001b[31mchr\u001b[39m (3): X1, X4, X5\n",
            "\u001b[32mdbl\u001b[39m (2): X2, X3\n",
            "\n",
            "\u001b[36mℹ\u001b[39m Use `spec()` to retrieve the full column specification for this data.\n",
            "\u001b[36mℹ\u001b[39m Specify the column types or set `show_col_types = FALSE` to quiet this message.\n",
            "\u001b[1mRows: \u001b[22m\u001b[34m32449\u001b[39m \u001b[1mColumns: \u001b[22m\u001b[34m5\u001b[39m\n",
            "\u001b[36m──\u001b[39m \u001b[1mColumn specification\u001b[22m \u001b[36m────────────────────────────────────────────────────────\u001b[39m\n",
            "\u001b[1mDelimiter:\u001b[22m \",\"\n",
            "\u001b[31mchr\u001b[39m (3): X1, X4, X5\n",
            "\u001b[32mdbl\u001b[39m (2): X2, X3\n",
            "\n",
            "\u001b[36mℹ\u001b[39m Use `spec()` to retrieve the full column specification for this data.\n",
            "\u001b[36mℹ\u001b[39m Specify the column types or set `show_col_types = FALSE` to quiet this message.\n",
            "\u001b[1mRows: \u001b[22m\u001b[34m59110\u001b[39m \u001b[1mColumns: \u001b[22m\u001b[34m5\u001b[39m\n",
            "\u001b[36m──\u001b[39m \u001b[1mColumn specification\u001b[22m \u001b[36m────────────────────────────────────────────────────────\u001b[39m\n",
            "\u001b[1mDelimiter:\u001b[22m \",\"\n",
            "\u001b[31mchr\u001b[39m (2): X1, X3\n",
            "\u001b[32mdbl\u001b[39m (3): X2, X4, X5\n",
            "\n",
            "\u001b[36mℹ\u001b[39m Use `spec()` to retrieve the full column specification for this data.\n",
            "\u001b[36mℹ\u001b[39m Specify the column types or set `show_col_types = FALSE` to quiet this message.\n"
          ]
        }
      ]
    },
    {
      "cell_type": "code",
      "source": [
        "# Rename columns for clarity\n",
        "colnames(case_data) <- c('Chromosome', 'Start', 'End', 'Type', 'Patient_ID')\n",
        "colnames(control_data) <- c('Chromosome', 'Start', 'End', 'Type', 'Patient_ID')\n",
        "colnames(gene_data) <- c('Gene_ID', 'Chromosome_ID', 'Chromosome', 'Gene_Start', 'Gene_End')"
      ],
      "metadata": {
        "id": "u841WyH-NVKx"
      },
      "execution_count": 3,
      "outputs": []
    },
    {
      "cell_type": "code",
      "source": [
        "# Combine case and control data\n",
        "case_data <- mutate(case_data, target = 1)\n",
        "control_data <- mutate(control_data, target = 0)\n",
        "combined_data <- bind_rows(case_data, control_data)"
      ],
      "metadata": {
        "id": "PDAKVjrvNWHQ"
      },
      "execution_count": 4,
      "outputs": []
    },
    {
      "cell_type": "code",
      "source": [
        "# Map significant regions to genes\n",
        "map_to_genes <- function(chromosome, start, end, genes) {\n",
        "  overlapping_genes <- genes %>%\n",
        "    filter(Chromosome == paste0(\"chr\", chromosome),\n",
        "           Gene_End >= start,\n",
        "           Gene_Start <= end)\n",
        "  paste(overlapping_genes$Gene_ID, collapse = \";\")\n",
        "}\n",
        "\n",
        "combined_data <- combined_data %>%\n",
        "  rowwise() %>%\n",
        "  mutate(Associated_Genes = map_to_genes(Chromosome, Start, End, gene_data))"
      ],
      "metadata": {
        "id": "lB4CtGiONXSo"
      },
      "execution_count": 5,
      "outputs": []
    },
    {
      "cell_type": "code",
      "source": [
        "# Export the combined data to a CSV file\n",
        "write_csv(combined_data, \"combined_data.csv\")"
      ],
      "metadata": {
        "id": "Nov97ICLNYvI"
      },
      "execution_count": 6,
      "outputs": []
    },
    {
      "cell_type": "code",
      "source": [
        "# Feature engineering\n",
        "combined_data <- combined_data %>%\n",
        "  mutate(VariationLength = End - Start) %>%\n",
        "  select(-Patient_ID)"
      ],
      "metadata": {
        "id": "ipaPWPFYNaHy"
      },
      "execution_count": 7,
      "outputs": []
    },
    {
      "cell_type": "code",
      "source": [
        "# One-Hot Encoding\n",
        "encoded_data <- combined_data %>%\n",
        "  mutate(across(c(Chromosome, Type, Associated_Genes), as.factor)) %>%\n",
        "  model.matrix(~ . - 1, data = .) %>%\n",
        "  as.data.frame()"
      ],
      "metadata": {
        "id": "dnxgO6KYNa4w"
      },
      "execution_count": null,
      "outputs": []
    },
    {
      "cell_type": "code",
      "source": [
        "# Train a model\n",
        "set.seed(42)\n",
        "X <- encoded_data %>% select(-target)\n",
        "y <- encoded_data$target\n",
        "train_index <- createDataPartition(y, p = 0.8, list = FALSE)\n",
        "X_train <- X[train_index, ]\n",
        "X_test <- X[-train_index, ]\n",
        "y_train <- y[train_index]\n",
        "y_test <- y[-train_index]\n",
        "\n",
        "model <- randomForest(X_train, as.factor(y_train))"
      ],
      "metadata": {
        "id": "xLNMVbIkNfQC"
      },
      "execution_count": null,
      "outputs": []
    },
    {
      "cell_type": "code",
      "source": [
        "# Evaluate the model\n",
        "y_pred <- predict(model, X_test)\n",
        "confusion_matrix <- confusionMatrix(as.factor(y_pred), as.factor(y_test))\n",
        "print(confusion_matrix)"
      ],
      "metadata": {
        "id": "bvAGSffENgMB"
      },
      "execution_count": null,
      "outputs": []
    },
    {
      "cell_type": "code",
      "source": [
        "# Feature importance\n",
        "feature_importance <- data.frame(Feature = colnames(X_train), Importance = importance(model)) %>%\n",
        "  arrange(desc(Importance))"
      ],
      "metadata": {
        "id": "vrdm3PrSNhyJ"
      },
      "execution_count": null,
      "outputs": []
    },
    {
      "cell_type": "code",
      "source": [
        "# Identify significant genes\n",
        "gene_columns <- grep(\"Associated_Genes_\", colnames(encoded_data), value = TRUE)\n",
        "significant_genes <- encoded_data %>%\n",
        "  filter(target == 1) %>%\n",
        "  select(all_of(gene_columns)) %>%\n",
        "  summarise(across(everything(), sum)) %>%\n",
        "  pivot_longer(everything(), names_to = \"Gene\", values_to = \"Count\") %>%\n",
        "  arrange(desc(Count))\n",
        "\n",
        "write_csv(significant_genes, \"significant_genes.csv\")"
      ],
      "metadata": {
        "id": "TvBFSHyTNkGp"
      },
      "execution_count": null,
      "outputs": []
    },
    {
      "cell_type": "code",
      "source": [
        "# Gene counts\n",
        "significant_genes <- read_csv(\"significant_genes.csv\")"
      ],
      "metadata": {
        "id": "VxNlzeNxNnQC"
      },
      "execution_count": null,
      "outputs": []
    },
    {
      "cell_type": "code",
      "source": [
        "# Split the genes and count occurrences\n",
        "gene_counts <- significant_genes %>%\n",
        "  separate_rows(Gene, sep = \";\") %>%\n",
        "  count(Gene, name = \"Count\") %>%\n",
        "  arrange(desc(Count))\n",
        "\n",
        "write_csv(gene_counts, \"gene_counts.csv\")"
      ],
      "metadata": {
        "id": "dms2sXmKNn3h"
      },
      "execution_count": null,
      "outputs": []
    },
    {
      "cell_type": "code",
      "source": [
        "# Plot the top 20 genes with the highest counts\n",
        "top_genes <- head(gene_counts, 20)\n",
        "\n",
        "ggplot(top_genes, aes(x = reorder(Gene, Count), y = Count)) +\n",
        "  geom_bar(stat = \"identity\", fill = \"skyblue\") +\n",
        "  coord_flip() +\n",
        "  labs(title = \"Top 20 Genes with Highest Counts\", x = \"Gene\", y = \"Count\") +\n",
        "  theme_minimal()"
      ],
      "metadata": {
        "id": "LSYgtR55G8ta"
      },
      "execution_count": null,
      "outputs": []
    }
  ]
}