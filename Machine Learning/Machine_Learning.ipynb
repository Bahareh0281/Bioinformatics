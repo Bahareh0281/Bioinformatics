{
  "nbformat": 4,
  "nbformat_minor": 0,
  "metadata": {
    "colab": {
      "provenance": [],
      "gpuType": "T4"
    },
    "kernelspec": {
      "name": "ir",
      "display_name": "R"
    },
    "language_info": {
      "name": "R"
    },
    "accelerator": "GPU"
  },
  "cells": [
    {
      "cell_type": "code",
      "source": [
        "# Load required libraries\n",
        "# Install the necessary packages if they are not already installed\n",
        "if (!require(\"tidyverse\")) install.packages(\"tidyverse\")\n",
        "if (!require(\"randomForest\")) install.packages(\"randomForest\")\n",
        "if (!require(\"caret\")) install.packages(\"caret\")\n",
        "if (!require(\"pROC\")) install.packages(\"pROC\")\n",
        "if (!require(\"openxlsx\")) install.packages(\"openxlsx\")\n",
        "if (!require(\"DMwR2\")) install.packages(\"DMwR2\")\n",
        "if (!require(\"smotefamily\")) install.packages(\"smotefamily\")"
      ],
      "metadata": {
        "id": "5tcDlynOoAs-"
      },
      "execution_count": 23,
      "outputs": []
    },
    {
      "cell_type": "code",
      "execution_count": 24,
      "metadata": {
        "id": "xhXXpJAXm7X9"
      },
      "outputs": [],
      "source": [
        "# Load required libraries\n",
        "library(tidyverse)\n",
        "library(randomForest)\n",
        "library(caret)\n",
        "library(pROC)\n",
        "library(openxlsx)\n",
        "library(DMwR2)  # For SMOTE"
      ]
    },
    {
      "cell_type": "code",
      "source": [
        "library(smotefamily)"
      ],
      "metadata": {
        "id": "Dmz3qbJO3bue"
      },
      "execution_count": 25,
      "outputs": []
    },
    {
      "cell_type": "code",
      "source": [
        "# Step 1: Data Preprocessing\n",
        "# Load the datasets\n",
        "case_data <- read.csv(\"PC_case.csv\")\n",
        "control_data <- read.csv(\"PC_control.csv\")\n",
        "genes_data <- read.csv(\"geneList.csv\")\n",
        "\n",
        "\n",
        "# Assign column names\n",
        "colnames(case_data) <- c(\"chromosome\", \"start\", \"end\", \"variation\", \"patient_id\")\n",
        "colnames(control_data) <- c(\"chromosome\", \"start\", \"end\", \"variation\", \"patient_id\")\n",
        "colnames(genes_data) <- c(\"gene_id\", \"placeholder\", \"chromosome\", \"gene_start\", \"gene_end\")"
      ],
      "metadata": {
        "id": "SNCzsDLnna7D"
      },
      "execution_count": 26,
      "outputs": []
    },
    {
      "cell_type": "code",
      "source": [
        "# Combine case and control datasets\n",
        "case_data$Group <- \"Case\"\n",
        "control_data$Group <- \"Control\"\n",
        "cnv_data <- rbind(case_data, control_data)"
      ],
      "metadata": {
        "id": "KaeyJWrQ31_w"
      },
      "execution_count": 27,
      "outputs": []
    },
    {
      "cell_type": "code",
      "source": [
        "# Feature engineering: Create CNV_Length\n",
        "cnv_data$CNV_Length <- cnv_data$end - cnv_data$start"
      ],
      "metadata": {
        "id": "fNCtJCmi349F"
      },
      "execution_count": 28,
      "outputs": []
    },
    {
      "cell_type": "code",
      "source": [
        "# Convert necessary columns to factors\n",
        "cnv_data$chromosome <- as.factor(cnv_data$chromosome)\n",
        "cnv_data$variation <- as.factor(cnv_data$variation)\n",
        "cnv_data$Group <- as.factor(cnv_data$Group)"
      ],
      "metadata": {
        "id": "tNkNJ3gG37y3"
      },
      "execution_count": 29,
      "outputs": []
    },
    {
      "cell_type": "code",
      "source": [
        "# Encode target variable\n",
        "cnv_data$Target <- ifelse(cnv_data$Group == \"Case\", 1, 0)"
      ],
      "metadata": {
        "id": "Zp6n4iwt39IK"
      },
      "execution_count": 30,
      "outputs": []
    },
    {
      "cell_type": "code",
      "source": [
        "# One-hot encoding for categorical features\n",
        "dummy_vars <- dummyVars(~ chromosome + variation, data = cnv_data)\n",
        "encoded_features <- as.data.frame(predict(dummy_vars, newdata = cnv_data))"
      ],
      "metadata": {
        "id": "BD6eUJqo39sY"
      },
      "execution_count": 31,
      "outputs": []
    },
    {
      "cell_type": "code",
      "source": [
        "# Combine features and target\n",
        "final_data <- cbind(encoded_features, CNV_Length = cnv_data$CNV_Length, Target = cnv_data$Target)"
      ],
      "metadata": {
        "id": "eyhsO6504Ap7"
      },
      "execution_count": 32,
      "outputs": []
    },
    {
      "cell_type": "code",
      "source": [
        "# Split data into training and testing sets\n",
        "set.seed(42)\n",
        "train_index <- createDataPartition(final_data$Target, p = 0.7, list = FALSE)\n",
        "train_data <- final_data[train_index, ]\n",
        "test_data <- final_data[-train_index, ]"
      ],
      "metadata": {
        "id": "FVSSq1Ux4CSh"
      },
      "execution_count": 33,
      "outputs": []
    },
    {
      "cell_type": "code",
      "source": [
        "# Balance the training data using SMOTE from smotefamily\n",
        "smote_train <- smotefamily::SMOTE(\n",
        "  train_data[, -which(names(train_data) == \"Target\")],\n",
        "  train_data$Target,\n",
        "  K = 5,\n",
        "  dup_size = 50\n",
        ")\n",
        "\n",
        "# Structure the output to match what you expect\n",
        "smote_train <- as.data.frame(smote_train$data)\n",
        "colnames(smote_train)[ncol(smote_train)] <- \"Target\" # Rename the last column to \"Target\""
      ],
      "metadata": {
        "id": "zNwGjpnO4QLq"
      },
      "execution_count": 34,
      "outputs": []
    },
    {
      "cell_type": "code",
      "source": [
        "# Train Random Forest model with hyperparameter tuning\n",
        "rf_grid <- expand.grid(mtry = c(2, 5, 10), ntree = c(100, 200, 300), maxnodes = c(10, 20, 30))\n",
        "best_model <- NULL\n",
        "best_auc <- 0"
      ],
      "metadata": {
        "id": "CeyBOc4D4Z-e"
      },
      "execution_count": null,
      "outputs": []
    },
    {
      "cell_type": "code",
      "source": [
        "# Ensure the Target variable is a factor for classification\n",
        "smote_train$Target <- as.factor(smote_train$Target)\n",
        "test_data$Target <- as.factor(test_data$Target)"
      ],
      "metadata": {
        "id": "W0-5kBR6bYhG"
      },
      "execution_count": null,
      "outputs": []
    },
    {
      "cell_type": "code",
      "source": [
        "# Convert Target to numeric only for AUC\n",
        "test_data_numeric_target <- as.numeric(as.character(test_data$Target))"
      ],
      "metadata": {
        "id": "rcRCs2mBbbSr"
      },
      "execution_count": null,
      "outputs": []
    },
    {
      "cell_type": "code",
      "source": [
        "# for (i in 1:nrow(rf_grid)) {\n",
        "#   rf_model <- randomForest(\n",
        "#     Target ~ .,\n",
        "#     data = smote_train,\n",
        "#     mtry = rf_grid$mtry[i],\n",
        "#     ntree = rf_grid$ntree[i],\n",
        "#     maxnodes = rf_grid$maxnodes[i]\n",
        "#   )\n",
        "\n",
        "#   # Predict on test set\n",
        "#   pred_probs <- predict(rf_model, test_data, type = \"prob\")[, 2]\n",
        "#   auc <- auc(roc(test_data$Target, pred_probs))\n",
        "\n",
        "#   if (auc > best_auc) {\n",
        "#     best_auc <- auc\n",
        "#     best_model <- rf_model\n",
        "#   }\n",
        "# }\n",
        "\n",
        "best_auc <- 0\n",
        "best_model <- NULL\n",
        "\n",
        "for (i in 1:nrow(rf_grid)) {\n",
        "  rf_model <- randomForest(\n",
        "    Target ~ .,\n",
        "    data = smote_train,\n",
        "    mtry = rf_grid$mtry[i],\n",
        "    ntree = rf_grid$ntree[i],\n",
        "    maxnodes = rf_grid$maxnodes[i]\n",
        "  )\n",
        "\n",
        "  # Predict probabilities on the test set\n",
        "  pred_probs <- predict(rf_model, test_data, type = \"prob\")[, 2]\n",
        "  auc <- auc(roc(as.numeric(as.character(test_data$Target)), pred_probs))\n",
        "\n",
        "  # Save the best model\n",
        "  if (auc > best_auc) {\n",
        "    best_auc <- auc\n",
        "    best_model <- rf_model\n",
        "  }\n",
        "}\n",
        "\n",
        "cat(\"Best AUC-ROC:\", best_auc, \"\\n\")"
      ],
      "metadata": {
        "id": "LQs6ofLC4ds7"
      },
      "execution_count": null,
      "outputs": []
    },
    {
      "cell_type": "code",
      "source": [
        "# Evaluate the best model\n",
        "pred <- predict(best_model, test_data, type = \"class\")\n",
        "conf_matrix <- confusionMatrix(as.factor(pred), as.factor(test_data$Target))\n",
        "roc_curve <- roc(test_data$Target, predict(best_model, test_data, type = \"prob\")[, 2])"
      ],
      "metadata": {
        "colab": {
          "base_uri": "https://localhost:8080/"
        },
        "id": "_6efgAgF4hqv",
        "outputId": "c4d4b3e0-7653-4ec3-8ead-f792c6e25007"
      },
      "execution_count": 35,
      "outputs": [
        {
          "output_type": "stream",
          "name": "stderr",
          "text": [
            "Setting levels: control = 0, case = 1\n",
            "\n",
            "Setting direction: controls < cases\n",
            "\n"
          ]
        }
      ]
    },
    {
      "cell_type": "code",
      "source": [
        "# Print results\n",
        "print(conf_matrix)\n",
        "cat(\"AUC-ROC:\", auc(roc_curve), \"\\n\")"
      ],
      "metadata": {
        "colab": {
          "base_uri": "https://localhost:8080/"
        },
        "id": "dxfhA3q74jia",
        "outputId": "24422799-e694-4ae8-f668-b65d97142092"
      },
      "execution_count": 36,
      "outputs": [
        {
          "output_type": "stream",
          "name": "stdout",
          "text": [
            "Confusion Matrix and Statistics\n",
            "\n",
            "          Reference\n",
            "Prediction    0    1\n",
            "         0 7473   21\n",
            "         1 2314 3395\n",
            "                                          \n",
            "               Accuracy : 0.8231          \n",
            "                 95% CI : (0.8165, 0.8296)\n",
            "    No Information Rate : 0.7413          \n",
            "    P-Value [Acc > NIR] : < 2.2e-16       \n",
            "                                          \n",
            "                  Kappa : 0.6216          \n",
            "                                          \n",
            " Mcnemar's Test P-Value : < 2.2e-16       \n",
            "                                          \n",
            "            Sensitivity : 0.7636          \n",
            "            Specificity : 0.9939          \n",
            "         Pos Pred Value : 0.9972          \n",
            "         Neg Pred Value : 0.5947          \n",
            "             Prevalence : 0.7413          \n",
            "         Detection Rate : 0.5660          \n",
            "   Detection Prevalence : 0.5676          \n",
            "      Balanced Accuracy : 0.8787          \n",
            "                                          \n",
            "       'Positive' Class : 0               \n",
            "                                          \n",
            "AUC-ROC: 0.9650269 \n"
          ]
        }
      ]
    },
    {
      "cell_type": "code",
      "source": [
        "# Feature importance\n",
        "importance <- data.frame(Feature = names(best_model$importance), Importance = best_model$importance)\n",
        "importance <- importance[order(-importance$Importance), ]"
      ],
      "metadata": {
        "colab": {
          "base_uri": "https://localhost:8080/",
          "height": 315
        },
        "id": "Y4BkNV8j4lHu",
        "outputId": "3f79a783-2a9b-4bcb-a5cd-cb3cd37416fe"
      },
      "execution_count": 37,
      "outputs": [
        {
          "output_type": "error",
          "ename": "ERROR",
          "evalue": "Error in data.frame(Feature = names(best_model$importance), Importance = best_model$importance): arguments imply differing number of rows: 0, 27\n",
          "traceback": [
            "Error in data.frame(Feature = names(best_model$importance), Importance = best_model$importance): arguments imply differing number of rows: 0, 27\nTraceback:\n",
            "1. stop(gettextf(\"arguments imply differing number of rows: %s\", \n .     paste(unique(nrows), collapse = \", \")), domain = NA)",
            "2. .handleSimpleError(function (cnd) \n . {\n .     watcher$capture_plot_and_output()\n .     cnd <- sanitize_call(cnd)\n .     watcher$push(cnd)\n .     switch(on_error, continue = invokeRestart(\"eval_continue\"), \n .         stop = invokeRestart(\"eval_stop\"), error = NULL)\n . }, \"arguments imply differing number of rows: 0, 27\", base::quote(data.frame(Feature = names(best_model$importance), \n .     Importance = best_model$importance)))"
          ]
        }
      ]
    },
    {
      "cell_type": "code",
      "source": [
        "# Plot ROC Curve\n",
        "plot(roc_curve, main = \"ROC Curve for Random Forest Model\", col = \"blue\", lwd = 2)"
      ],
      "metadata": {
        "id": "K94REFxV4mKA"
      },
      "execution_count": null,
      "outputs": []
    },
    {
      "cell_type": "code",
      "source": [
        "# Save results to Excel\n",
        "write.xlsx(\n",
        "  list(\n",
        "    \"Confusion Matrix\" = as.data.frame(conf_matrix$table),\n",
        "    \"Feature Importance\" = importance,\n",
        "    \"ROC AUC\" = data.frame(AUC = auc(roc_curve))\n",
        "  ),\n",
        "  file = \"CNV_Analysis_Results_ML.xlsx\"\n",
        ")\n",
        "\n",
        "cat(\"Results saved to 'CNV_Analysis_Results_ML.xlsx'\\n\")"
      ],
      "metadata": {
        "id": "2SraMBzj4nhY"
      },
      "execution_count": null,
      "outputs": []
    }
  ]
}