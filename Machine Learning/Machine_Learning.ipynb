{
  "nbformat": 4,
  "nbformat_minor": 0,
  "metadata": {
    "colab": {
      "provenance": []
    },
    "kernelspec": {
      "name": "ir",
      "display_name": "R"
    },
    "language_info": {
      "name": "R"
    }
  },
  "cells": [
    {
      "cell_type": "code",
      "source": [
        "# Load required libraries\n",
        "# Install the necessary packages if they are not already installed\n",
        "if (!require(\"tidyverse\")) install.packages(\"tidyverse\")\n",
        "if (!require(\"randomForest\")) install.packages(\"randomForest\")\n",
        "if (!require(\"caret\")) install.packages(\"caret\")\n",
        "if (!require(\"pROC\")) install.packages(\"pROC\")\n",
        "if (!require(\"openxlsx\")) install.packages(\"openxlsx\")"
      ],
      "metadata": {
        "colab": {
          "base_uri": "https://localhost:8080/"
        },
        "id": "5tcDlynOoAs-",
        "outputId": "6888dcc5-4054-4cd2-dd26-94a47d0e854a"
      },
      "execution_count": 2,
      "outputs": [
        {
          "output_type": "stream",
          "name": "stderr",
          "text": [
            "Loading required package: randomForest\n",
            "\n",
            "Warning message in library(package, lib.loc = lib.loc, character.only = TRUE, logical.return = TRUE, :\n",
            "“there is no package called ‘randomForest’”\n",
            "Installing package into ‘/usr/local/lib/R/site-library’\n",
            "(as ‘lib’ is unspecified)\n",
            "\n",
            "Loading required package: caret\n",
            "\n",
            "Warning message in library(package, lib.loc = lib.loc, character.only = TRUE, logical.return = TRUE, :\n",
            "“there is no package called ‘caret’”\n",
            "Installing package into ‘/usr/local/lib/R/site-library’\n",
            "(as ‘lib’ is unspecified)\n",
            "\n",
            "also installing the dependencies ‘listenv’, ‘parallelly’, ‘future’, ‘globals’, ‘shape’, ‘future.apply’, ‘numDeriv’, ‘progressr’, ‘SQUAREM’, ‘diagram’, ‘lava’, ‘prodlim’, ‘proxy’, ‘iterators’, ‘clock’, ‘gower’, ‘hardhat’, ‘ipred’, ‘timeDate’, ‘e1071’, ‘foreach’, ‘ModelMetrics’, ‘plyr’, ‘pROC’, ‘recipes’, ‘reshape2’\n",
            "\n",
            "\n",
            "Loading required package: pROC\n",
            "\n",
            "Type 'citation(\"pROC\")' for a citation.\n",
            "\n",
            "\n",
            "Attaching package: ‘pROC’\n",
            "\n",
            "\n",
            "The following objects are masked from ‘package:stats’:\n",
            "\n",
            "    cov, smooth, var\n",
            "\n",
            "\n",
            "Loading required package: openxlsx\n",
            "\n",
            "Warning message in library(package, lib.loc = lib.loc, character.only = TRUE, logical.return = TRUE, :\n",
            "“there is no package called ‘openxlsx’”\n",
            "Installing package into ‘/usr/local/lib/R/site-library’\n",
            "(as ‘lib’ is unspecified)\n",
            "\n"
          ]
        }
      ]
    },
    {
      "cell_type": "code",
      "execution_count": 3,
      "metadata": {
        "colab": {
          "base_uri": "https://localhost:8080/"
        },
        "id": "xhXXpJAXm7X9",
        "outputId": "fad82ddc-96e8-4983-9a4b-447b9315acf9"
      },
      "outputs": [
        {
          "output_type": "stream",
          "name": "stderr",
          "text": [
            "randomForest 4.7-1.2\n",
            "\n",
            "Type rfNews() to see new features/changes/bug fixes.\n",
            "\n",
            "\n",
            "Attaching package: ‘randomForest’\n",
            "\n",
            "\n",
            "The following object is masked from ‘package:dplyr’:\n",
            "\n",
            "    combine\n",
            "\n",
            "\n",
            "The following object is masked from ‘package:ggplot2’:\n",
            "\n",
            "    margin\n",
            "\n",
            "\n",
            "Loading required package: lattice\n",
            "\n",
            "\n",
            "Attaching package: ‘caret’\n",
            "\n",
            "\n",
            "The following object is masked from ‘package:purrr’:\n",
            "\n",
            "    lift\n",
            "\n",
            "\n"
          ]
        }
      ],
      "source": [
        "# Load required libraries\n",
        "library(tidyverse)\n",
        "library(randomForest)\n",
        "library(caret)\n",
        "library(pROC)\n",
        "library(openxlsx)"
      ]
    },
    {
      "cell_type": "code",
      "source": [
        "# Step 1: Data Preprocessing\n",
        "# Load the datasets\n",
        "case_data <- read.csv(\"PC_case.csv\")\n",
        "control_data <- read.csv(\"PC_control.csv\")\n",
        "genes_data <- read.csv(\"geneList.csv\")\n",
        "\n",
        "\n",
        "# Assign column names\n",
        "colnames(case_data) <- c(\"chromosome\", \"start\", \"end\", \"variation\", \"patient_id\")\n",
        "colnames(control_data) <- c(\"chromosome\", \"start\", \"end\", \"variation\", \"patient_id\")\n",
        "colnames(genes_data) <- c(\"gene_id\", \"placeholder\", \"chromosome\", \"gene_start\", \"gene_end\")\n",
        "\n",
        "\n",
        "# Combine and format data\n",
        "cnv_data <- bind_rows(case_data %>% mutate(Group = \"Case\"),\n",
        "                      control_data %>% mutate(Group = \"Control\"))\n",
        "\n",
        "# Feature engineering: Create new features\n",
        "# Correct the column name from Chromosome to chromosome\n",
        "cnv_data <- cnv_data %>%\n",
        "  mutate(chromosome = as.factor(chromosome), # Change 'Chromosome' to 'chromosome'\n",
        "         Variation_Type = as.factor(variation), # Change 'Type' to 'variation'\n",
        "         CNV_Length = end - start) # Change 'End' and 'Start' to 'en\n",
        "\n",
        "# Encode target variable\n",
        "cnv_data$Target <- ifelse(cnv_data$Group == \"Case\", 1, 0)"
      ],
      "metadata": {
        "id": "SNCzsDLnna7D"
      },
      "execution_count": 10,
      "outputs": []
    },
    {
      "cell_type": "code",
      "source": [
        "# Step 2: Prepare Data for Machine Learning\n",
        "# Select features for the model\n",
        "features <- cnv_data %>%\n",
        "  select(chromosome, start, end, CNV_Length, Variation_Type, Target)\n",
        "\n",
        "# One-hot encode categorical features\n",
        "features <- dummyVars(~., data = features) %>%\n",
        "  predict(newdata = features) %>%\n",
        "  as.data.frame()\n",
        "\n",
        "# Split data into training and testing sets\n",
        "set.seed(123) # For reproducibility\n",
        "train_index <- createDataPartition(features$Target, p = 0.7, list = FALSE)\n",
        "train_data <- features[train_index, ]\n",
        "test_data <- features[-train_index, ]"
      ],
      "metadata": {
        "id": "ZO-b52YWndJp"
      },
      "execution_count": 12,
      "outputs": []
    },
    {
      "cell_type": "code",
      "source": [
        "# Step 3: Train Random Forest Model\n",
        "model <- randomForest(Target ~ ., data = train_data, ntree = 100, importance = TRUE)\n",
        "\n",
        "# Print model summary\n",
        "print(model)"
      ],
      "metadata": {
        "colab": {
          "base_uri": "https://localhost:8080/"
        },
        "id": "AW1uxQwVneuD",
        "outputId": "90154fae-be11-4f24-c03c-ef38b888c7f4"
      },
      "execution_count": 13,
      "outputs": [
        {
          "output_type": "stream",
          "name": "stderr",
          "text": [
            "Warning message in randomForest.default(m, y, ...):\n",
            "“The response has five or fewer unique values.  Are you sure you want to do regression?”\n"
          ]
        },
        {
          "output_type": "stream",
          "name": "stdout",
          "text": [
            "\n",
            "Call:\n",
            " randomForest(formula = Target ~ ., data = train_data, ntree = 100,      importance = TRUE) \n",
            "               Type of random forest: regression\n",
            "                     Number of trees: 100\n",
            "No. of variables tried at each split: 9\n",
            "\n",
            "          Mean of squared residuals: 0.01884557\n",
            "                    % Var explained: 90.28\n"
          ]
        }
      ]
    },
    {
      "cell_type": "code",
      "source": [
        "# Step 4: Model Evaluation\n",
        "# Predict on the test data\n",
        "predictions <- predict(model, test_data, type = \"response\")\n",
        "\n",
        "# Convert predictions and test_data$Target to factors with the same levels\n",
        "# Get the levels present in test_data$Target\n",
        "all_levels <- levels(as.factor(test_data$Target))\n",
        "\n",
        "# Ensure both predictions and test_data$Target have the same levels\n",
        "predictions <- factor(predictions, levels = all_levels)\n",
        "test_data$Target <- factor(test_data$Target, levels = all_levels)\n",
        "\n",
        "# Evaluate performance\n",
        "conf_matrix <- confusionMatrix(predictions, test_data$Target)  # Removed extra as.factor() calls\n",
        "roc_curve <- roc(test_data$Target, as.numeric(predictions)) # Convert predictions to numeric for roc()\n",
        "\n",
        "# Print evaluation metrics\n",
        "cat(\"Confusion Matrix:\\n\")\n",
        "print(conf_matrix)\n",
        "cat(\"AUC-ROC:\", auc(roc_curve), \"\\n\")"
      ],
      "metadata": {
        "colab": {
          "base_uri": "https://localhost:8080/"
        },
        "id": "u3Wr8t0snfxx",
        "outputId": "496c3c1f-fd5d-417b-bb54-871998be49c1"
      },
      "execution_count": 15,
      "outputs": [
        {
          "output_type": "stream",
          "name": "stderr",
          "text": [
            "Setting levels: control = 0, case = 1\n",
            "\n",
            "Setting direction: controls < cases\n",
            "\n"
          ]
        },
        {
          "output_type": "stream",
          "name": "stdout",
          "text": [
            "Confusion Matrix:\n",
            "Confusion Matrix and Statistics\n",
            "\n",
            "          Reference\n",
            "Prediction 0 1\n",
            "         0 0 0\n",
            "         1 1 8\n",
            "                                          \n",
            "               Accuracy : 0.8889          \n",
            "                 95% CI : (0.5175, 0.9972)\n",
            "    No Information Rate : 0.8889          \n",
            "    P-Value [Acc > NIR] : 0.7362          \n",
            "                                          \n",
            "                  Kappa : 0               \n",
            "                                          \n",
            " Mcnemar's Test P-Value : 1.0000          \n",
            "                                          \n",
            "            Sensitivity : 0.0000          \n",
            "            Specificity : 1.0000          \n",
            "         Pos Pred Value :    NaN          \n",
            "         Neg Pred Value : 0.8889          \n",
            "             Prevalence : 0.1111          \n",
            "         Detection Rate : 0.0000          \n",
            "   Detection Prevalence : 0.0000          \n",
            "      Balanced Accuracy : 0.5000          \n",
            "                                          \n",
            "       'Positive' Class : 0               \n",
            "                                          \n",
            "AUC-ROC: 0.5 \n"
          ]
        }
      ]
    },
    {
      "cell_type": "code",
      "source": [
        "# Step 5: Identify Important Features\n",
        "importance <- as.data.frame(importance(model))\n",
        "colnames(importance) <- c(\"MeanDecreaseAccuracy\", \"MeanDecreaseGini\")\n",
        "importance <- importance %>%\n",
        "  arrange(desc(MeanDecreaseAccuracy))\n",
        "\n",
        "cat(\"Top Important Features:\\n\")\n",
        "print(importance)"
      ],
      "metadata": {
        "colab": {
          "base_uri": "https://localhost:8080/"
        },
        "id": "0KmInR1_nhzJ",
        "outputId": "8e713549-e588-40ed-fdd4-9a1ad9174d2d"
      },
      "execution_count": 16,
      "outputs": [
        {
          "output_type": "stream",
          "name": "stdout",
          "text": [
            "Top Important Features:\n",
            "                   MeanDecreaseAccuracy MeanDecreaseGini\n",
            "CNV_Length                   236.488534     4657.6461247\n",
            "chromosome.19                 25.183382       14.2785431\n",
            "chromosome.1                  23.397192       14.5568718\n",
            "chromosome.11                 19.154183       15.9014646\n",
            "end                           18.580782      204.3663080\n",
            "start                         18.458102      260.3448371\n",
            "chromosome.17                 18.266461       16.1835218\n",
            "chromosome.2                  17.195896       10.8373841\n",
            "chromosome.6                  14.723701        9.5355431\n",
            "chromosome.22                 14.122623        6.6844477\n",
            "chromosome.14                 13.666818        8.3354531\n",
            "chromosome.10                 13.147503        7.6684115\n",
            "chromosome.3                  12.503415        9.6818431\n",
            "chromosome.7                  12.365022       10.0469009\n",
            "chromosome.4                  12.011591        7.1951674\n",
            "chromosome.12                 10.576405        6.8124051\n",
            "Variation_Type.dup             9.634565      182.1973754\n",
            "chromosome.5                   8.635435        6.8806708\n",
            "chromosome.13                  8.430836        4.7083832\n",
            "chromosome.16                  7.520372        6.6190463\n",
            "chromosome.8                   7.298204       12.1581421\n",
            "chromosome.18                  7.148147        4.8130404\n",
            "chromosome.9                   7.095453        6.1516742\n",
            "Variation_Type.del             6.541187      130.1811296\n",
            "chromosome.15                  5.867741        5.6945938\n",
            "chromosome.X                   5.503745        6.7950907\n",
            "chromosome.20                  3.532791        4.1344302\n",
            "chromosome.Y                   2.355374        0.6132928\n",
            "chromosome.21                  2.177416        2.6280875\n"
          ]
        }
      ]
    },
    {
      "cell_type": "code",
      "source": [
        "# Step 6: Save Results\n",
        "# Save important features\n",
        "write.xlsx(list(\"Important Features\" = importance,\n",
        "                \"Confusion Matrix\" = as.data.frame(conf_matrix$table)),\n",
        "           file = \"CNV_Analysis_Results_ML.xlsx\")"
      ],
      "metadata": {
        "id": "oEJIsGn7njK0"
      },
      "execution_count": 19,
      "outputs": []
    },
    {
      "cell_type": "code",
      "source": [
        "# Step 7: Visualization\n",
        "# Plot ROC curve\n",
        "plot(roc_curve, main = \"AUC-ROC Curve for Random Forest Model\", col = \"blue\", lwd = 2)\n",
        "\n",
        "# Save the model for future use\n",
        "saveRDS(model, file = \"random_forest_cnv_model.rds\")"
      ],
      "metadata": {
        "colab": {
          "base_uri": "https://localhost:8080/",
          "height": 437
        },
        "id": "SlMZevafnlcZ",
        "outputId": "b07f7acd-99eb-4ba5-9253-9deb89e23837"
      },
      "execution_count": 20,
      "outputs": [
        {
          "output_type": "display_data",
          "data": {
            "text/plain": [
              "Plot with title “AUC-ROC Curve for Random Forest Model”"
            ],
            "image/png": "[encoded data removed]"
          },
          "metadata": {
            "image/png": {
              "width": 420,
              "height": 420
            }
          }
        }
      ]
    }
  ]
}