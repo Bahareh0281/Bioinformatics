{
  "nbformat": 4,
  "nbformat_minor": 0,
  "metadata": {
    "colab": {
      "provenance": []
    },
    "kernelspec": {
      "name": "ir",
      "display_name": "R"
    },
    "language_info": {
      "name": "R"
    }
  },
  "cells": [
    {
      "cell_type": "code",
      "execution_count": 21,
      "metadata": {
        "colab": {
          "base_uri": "https://localhost:8080/"
        },
        "id": "tnQdCPelk1T_",
        "outputId": "af3c6d23-da76-4908-914c-cecf442731d9"
      },
      "outputs": [
        {
          "output_type": "stream",
          "name": "stderr",
          "text": [
            "Installing package into ‘/usr/local/lib/R/site-library’\n",
            "(as ‘lib’ is unspecified)\n",
            "\n",
            "Installing package into ‘/usr/local/lib/R/site-library’\n",
            "(as ‘lib’ is unspecified)\n",
            "\n",
            "Installing package into ‘/usr/local/lib/R/site-library’\n",
            "(as ‘lib’ is unspecified)\n",
            "\n",
            "Installing package into ‘/usr/local/lib/R/site-library’\n",
            "(as ‘lib’ is unspecified)\n",
            "\n",
            "Installing package into ‘/usr/local/lib/R/site-library’\n",
            "(as ‘lib’ is unspecified)\n",
            "\n",
            "'getOption(\"repos\")' replaces Bioconductor standard repositories, see\n",
            "'help(\"repositories\", package = \"BiocManager\")' for details.\n",
            "Replacement repositories:\n",
            "    CRAN: https://cran.rstudio.com\n",
            "\n",
            "Bioconductor version 3.20 (BiocManager 1.30.25), R 4.4.2 (2024-10-31)\n",
            "\n",
            "Installing package(s) 'BiocVersion', 'GenomicRanges'\n",
            "\n",
            "also installing the dependencies ‘UCSC.utils’, ‘GenomeInfoDbData’, ‘zlibbioc’, ‘BiocGenerics’, ‘S4Vectors’, ‘IRanges’, ‘GenomeInfoDb’, ‘XVector’\n",
            "\n",
            "\n",
            "Old packages: 'curl', 'Matrix'\n",
            "\n",
            "Loading required package: stats4\n",
            "\n",
            "Loading required package: BiocGenerics\n",
            "\n",
            "\n",
            "Attaching package: ‘BiocGenerics’\n",
            "\n",
            "\n",
            "The following objects are masked from ‘package:dplyr’:\n",
            "\n",
            "    combine, intersect, setdiff, union\n",
            "\n",
            "\n",
            "The following objects are masked from ‘package:stats’:\n",
            "\n",
            "    IQR, mad, sd, var, xtabs\n",
            "\n",
            "\n",
            "The following objects are masked from ‘package:base’:\n",
            "\n",
            "    anyDuplicated, aperm, append, as.data.frame, basename, cbind,\n",
            "    colnames, dirname, do.call, duplicated, eval, evalq, Filter, Find,\n",
            "    get, grep, grepl, intersect, is.unsorted, lapply, Map, mapply,\n",
            "    match, mget, order, paste, pmax, pmax.int, pmin, pmin.int,\n",
            "    Position, rank, rbind, Reduce, rownames, sapply, saveRDS, setdiff,\n",
            "    table, tapply, union, unique, unsplit, which.max, which.min\n",
            "\n",
            "\n",
            "Loading required package: S4Vectors\n",
            "\n",
            "\n",
            "Attaching package: ‘S4Vectors’\n",
            "\n",
            "\n",
            "The following object is masked from ‘package:tidyr’:\n",
            "\n",
            "    expand\n",
            "\n",
            "\n",
            "The following objects are masked from ‘package:dplyr’:\n",
            "\n",
            "    first, rename\n",
            "\n",
            "\n",
            "The following object is masked from ‘package:utils’:\n",
            "\n",
            "    findMatches\n",
            "\n",
            "\n",
            "The following objects are masked from ‘package:base’:\n",
            "\n",
            "    expand.grid, I, unname\n",
            "\n",
            "\n",
            "Loading required package: IRanges\n",
            "\n",
            "\n",
            "Attaching package: ‘IRanges’\n",
            "\n",
            "\n",
            "The following objects are masked from ‘package:dplyr’:\n",
            "\n",
            "    collapse, desc, slice\n",
            "\n",
            "\n",
            "Loading required package: GenomeInfoDb\n",
            "\n"
          ]
        }
      ],
      "source": [
        "# Install necessary packages\n",
        "install.packages(\"dplyr\")\n",
        "install.packages(\"ggplot2\")\n",
        "install.packages(\"readr\")\n",
        "install.packages(\"tidyr\")\n",
        "if (!requireNamespace(\"BiocManager\", quietly = TRUE)) install.packages(\"BiocManager\")\n",
        "BiocManager::install(\"GenomicRanges\")\n",
        "\n",
        "# Load libraries\n",
        "library(dplyr)\n",
        "library(ggplot2)\n",
        "library(readr)\n",
        "library(tidyr)\n",
        "library(GenomicRanges)\n"
      ]
    },
    {
      "cell_type": "code",
      "source": [
        "# Step 1: Load the data\n",
        "case_data <- read.table(\"PC_case.txt\", header = FALSE, sep = \"\\t\", stringsAsFactors = FALSE)\n",
        "control_data <- read.table(\"PC_control.txt\", header = FALSE, sep = \"\\t\", stringsAsFactors = FALSE)\n",
        "gene_data <- read.table(\"geneList.txt\", header = FALSE, sep = \"\\t\", stringsAsFactors = FALSE)\n",
        "\n",
        "# Assign column names\n",
        "colnames(case_data) <- c(\"chromosome\", \"start\", \"end\", \"variation\", \"patient_id\")\n",
        "colnames(control_data) <- c(\"chromosome\", \"start\", \"end\", \"variation\", \"patient_id\")\n",
        "colnames(gene_data) <- c(\"gene_id\", \"placeholder\", \"chromosome\", \"gene_start\", \"gene_end\",\n",
        "                         \"extra1\", \"extra2\", \"extra3\", \"extra4\", \"extra5\", \"extra6\", \"extra7\", \"extra8\")\n",
        "\n",
        "# Filter relevant columns from gene_data\n",
        "gene_data <- gene_data %>%\n",
        "  select(gene_id, chromosome, gene_start, gene_end)"
      ],
      "metadata": {
        "id": "Ls4jY594eFZn"
      },
      "execution_count": 22,
      "outputs": []
    },
    {
      "cell_type": "code",
      "source": [
        "# Step 2: Data Preprocessing\n",
        "# Remove duplicates and ensure data consistency\n",
        "case_filtered <- case_data %>%\n",
        "  distinct(chromosome, start, end, variation)\n",
        "\n",
        "control_filtered <- control_data %>%\n",
        "  distinct(chromosome, start, end, variation)\n",
        "\n",
        "# Identify unique CNV regions in the case dataset\n",
        "unique_case <- anti_join(case_filtered, control_filtered, by = c(\"chromosome\", \"start\", \"end\", \"variation\"))\n",
        "\n",
        "# Ensure chromosome names are consistent between datasets\n",
        "unique_case$chromosome <- as.character(unique_case$chromosome)\n",
        "gene_data$chromosome <- as.character(gene_data$chromosome)"
      ],
      "metadata": {
        "id": "0xljSCrUeIi8"
      },
      "execution_count": 23,
      "outputs": []
    },
    {
      "cell_type": "code",
      "source": [
        "# Step 3: Analyze Data (Using GenomicRanges for Accurate Overlap Detection)\n",
        "# Convert unique_case and gene_data to GRanges objects\n",
        "unique_case_gr <- GRanges(seqnames = unique_case$chromosome,\n",
        "                          ranges = IRanges(start = unique_case$start, end = unique_case$end))\n",
        "\n",
        "gene_data_gr <- GRanges(seqnames = gene_data$chromosome,\n",
        "                        ranges = IRanges(start = gene_data$gene_start, end = gene_data$gene_end),\n",
        "                        gene_id = gene_data$gene_id)\n",
        "\n",
        "# Find overlaps between unique CNV regions and genes\n",
        "overlaps <- findOverlaps(unique_case_gr, gene_data_gr)\n",
        "\n",
        "# Extract overlapping genes\n",
        "genes_in_regions <- gene_data[subjectHits(overlaps), ]\n",
        "\n",
        "# Save the list of disease-related genes\n",
        "write.csv(genes_in_regions, \"genes_associated_with_cnv.csv\", row.names = FALSE)\n",
        "print(\"Saved genes_associated_with_cnv.csv\")\n",
        "\n",
        "# Perform basic statistics\n",
        "cnv_stats <- unique_case %>%\n",
        "  group_by(chromosome, variation) %>%\n",
        "  summarize(count = n(), .groups = \"drop\")\n",
        "\n",
        "# Save CNV statistics\n",
        "write.csv(cnv_stats, \"cnv_statistics.csv\", row.names = FALSE)\n",
        "print(\"Saved cnv_statistics.csv\")"
      ],
      "metadata": {
        "colab": {
          "base_uri": "https://localhost:8080/"
        },
        "id": "dIbb3MRUeKxC",
        "outputId": "4703edf1-8760-4db1-e64d-d9eeaad80755"
      },
      "execution_count": 24,
      "outputs": [
        {
          "output_type": "stream",
          "name": "stderr",
          "text": [
            "Warning message in .merge_two_Seqinfo_objects(x, y):\n",
            "“The 2 combined objects have no sequence levels in common. (Use\n",
            "  suppressWarnings() to suppress this warning.)”\n"
          ]
        },
        {
          "output_type": "stream",
          "name": "stdout",
          "text": [
            "[1] \"Saved genes_associated_with_cnv.csv\"\n",
            "[1] \"Saved cnv_statistics.csv\"\n"
          ]
        }
      ]
    },
    {
      "cell_type": "code",
      "source": [
        "# Step 4: Visualization\n",
        "\n",
        "# Plot 1: Distribution of CNVs across chromosomes\n",
        "cnv_distribution_plot <- ggplot(case_data, aes(x = chromosome)) +\n",
        "  geom_bar(fill = \"blue\") +\n",
        "  theme_minimal() +\n",
        "  labs(title = \"Distribution of CNVs in Case Dataset\", x = \"Chromosome\", y = \"Number of CNVs\")\n",
        "\n",
        "# Save the distribution plot\n",
        "ggsave(\"cnv_distribution_case.png\", plot = cnv_distribution_plot, width = 7, height = 7)\n",
        "\n",
        "# Plot 2: Distribution of CNV types\n",
        "cnv_type_plot <- ggplot(unique_case, aes(x = variation, fill = variation)) +\n",
        "  geom_bar() +\n",
        "  theme_minimal() +\n",
        "  labs(title = \"Distribution of CNV Types\", x = \"CNV Type\", y = \"Count\")\n",
        "\n",
        "# Save the type distribution plot\n",
        "ggsave(\"cnv_type_distribution.png\", plot = cnv_type_plot, width = 7, height = 7)\n",
        "\n",
        "# Heatmap for CNV density across chromosomes\n",
        "heatmap_data <- unique_case %>%\n",
        "  group_by(chromosome, variation) %>%\n",
        "  summarize(cnv_count = n(), .groups = \"drop\") %>%\n",
        "  pivot_wider(names_from = variation, values_from = cnv_count, values_fill = 0)\n",
        "\n",
        "heatmap_matrix <- as.matrix(heatmap_data[, -1])\n",
        "rownames(heatmap_matrix) <- heatmap_data$chromosome\n",
        "\n",
        "# Save heatmap data\n",
        "write.csv(heatmap_data, \"cnv_heatmap_data.csv\", row.names = TRUE)\n",
        "\n",
        "# Create and display the heatmap\n",
        "heatmap(\n",
        "  heatmap_matrix,\n",
        "  main = \"CNV Density Heatmap\",\n",
        "  col = heat.colors(10)\n",
        ")\n",
        "\n",
        "# Optionally, save the heatmap as an image\n",
        "png(\"cnv_heatmap.png\", width = 700, height = 700)\n",
        "heatmap(\n",
        "  heatmap_matrix,\n",
        "  main = \"CNV Density Heatmap\",\n",
        "  col = heat.colors(10)\n",
        ")\n",
        "dev.off()"
      ],
      "metadata": {
        "colab": {
          "base_uri": "https://localhost:8080/",
          "height": 454
        },
        "id": "P1arzkDLeNZG",
        "outputId": "03c2ca2a-2778-4b90-9dfe-5ffbed4c95f9"
      },
      "execution_count": 27,
      "outputs": [
        {
          "output_type": "display_data",
          "data": {
            "text/html": [
              "<strong>pdf:</strong> 2"
            ],
            "text/markdown": "**pdf:** 2",
            "text/latex": "\\textbf{pdf:} 2",
            "text/plain": [
              "pdf \n",
              "  2 "
            ]
          },
          "metadata": {}
        },
        {
          "output_type": "display_data",
          "data": {
            "text/plain": [
              "Plot with title “CNV Density Heatmap”"
            ],
            "image/png": "[encoded data removed]"
          },
          "metadata": {
            "image/png": {
              "width": 420,
              "height": 420
            }
          }
        }
      ]
    },
    {
      "cell_type": "code",
      "source": [
        "# Step 5: Final Output\n",
        "# Save unique CNV regions to a CSV file\n",
        "write.csv(unique_case, \"unique_cnv_regions.csv\", row.names = FALSE)\n",
        "print(\"Saved unique_cnv_regions.csv\")\n",
        "\n",
        "# Generate a summary report\n",
        "summary_report <- list(\n",
        "  \"CNV Statistics\" = cnv_stats,\n",
        "  \"Number of Unique CNV Regions\" = nrow(unique_case),\n",
        "  \"Number of Associated Genes\" = nrow(genes_in_regions)\n",
        ")\n",
        "\n",
        "summary_report_file <- \"summary_report.txt\"\n",
        "cat(\"Summary Report\\n\", file = summary_report_file)\n",
        "cat(\"---------------\\n\", file = summary_report_file, append = TRUE)\n",
        "cat(paste(\"Number of Unique CNV Regions:\", nrow(unique_case)), \"\\n\", file = summary_report_file, append = TRUE)\n",
        "cat(paste(\"Number of Associated Genes:\", nrow(genes_in_regions)), \"\\n\", file = summary_report_file, append = TRUE)\n",
        "cat(\"\\nCNV Statistics:\\n\", file = summary_report_file, append = TRUE)\n",
        "write.table(cnv_stats, file = summary_report_file, append = TRUE, col.names = TRUE, row.names = FALSE)\n",
        "print(\"Saved summary_report.txt\")\n",
        "\n",
        "# Print completion message\n",
        "print(\"Analysis and visualization complete. Outputs saved.\")"
      ],
      "metadata": {
        "colab": {
          "base_uri": "https://localhost:8080/"
        },
        "id": "c6mGR40PePat",
        "outputId": "3bfe2e5b-f9ae-4540-ec9b-9da3dee6b515"
      },
      "execution_count": 26,
      "outputs": [
        {
          "output_type": "stream",
          "name": "stdout",
          "text": [
            "[1] \"Saved unique_cnv_regions.csv\"\n"
          ]
        },
        {
          "output_type": "stream",
          "name": "stderr",
          "text": [
            "Warning message in write.table(cnv_stats, file = summary_report_file, append = TRUE, :\n",
            "“appending column names to file”\n"
          ]
        },
        {
          "output_type": "stream",
          "name": "stdout",
          "text": [
            "[1] \"Saved summary_report.txt\"\n",
            "[1] \"Analysis and visualization complete. Outputs saved.\"\n"
          ]
        }
      ]
    }
  ]
}