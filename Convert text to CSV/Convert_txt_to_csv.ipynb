{
  "nbformat": 4,
  "nbformat_minor": 0,
  "metadata": {
    "colab": {
      "provenance": []
    },
    "kernelspec": {
      "name": "ir",
      "display_name": "R"
    },
    "language_info": {
      "name": "R"
    }
  },
  "cells": [
    {
      "cell_type": "code",
      "execution_count": 1,
      "metadata": {
        "id": "W89HZRIC4qmh"
      },
      "outputs": [],
      "source": [
        "# Set the working directory to where your .txt files are located\n",
        "setwd(\"/content/\")\n",
        "\n",
        "# List all .txt files in the directory\n",
        "file_list <- list.files(pattern = \"\\\\.txt$\")\n",
        "\n",
        "# Loop through each file and convert to CSV\n",
        "for (file in file_list) {\n",
        "  # Read the tab-delimited file\n",
        "  data <- read.delim(file, header = TRUE, sep = \"\\t\")\n",
        "\n",
        "  # Create the output CSV filename\n",
        "  output_file <- sub(\"\\\\.txt$\", \".csv\", file)\n",
        "\n",
        "  # Write the data to a CSV file\n",
        "  write.csv(data, file = output_file, row.names = FALSE)\n",
        "}\n"
      ]
    }
  ]
}